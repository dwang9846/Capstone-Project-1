{
 "cells": [
  {
   "cell_type": "code",
   "execution_count": 3,
   "metadata": {},
   "outputs": [],
   "source": [
    "import pandas as pd\n",
    "from scipy.io import arff\n",
    "import numpy as np\n",
    "import requests\n",
    "from bs4 import BeautifulSoup\n",
    "import matplotlib.pyplot as plt\n",
    "import seaborn as sns\n",
    "import warnings\n",
    "%matplotlib inline\n"
   ]
  },
  {
   "cell_type": "code",
   "execution_count": 4,
   "metadata": {},
   "outputs": [],
   "source": [
    "#get the source code UCI repository website \n",
    "res=requests.get('http://archive.ics.uci.edu/ml/datasets/Polish+companies+bankruptcy+data').text\n",
    "\n",
    "#pass the requested source code into BeautifulSoup liabray\n",
    "bs=BeautifulSoup(res,'html.parser')\n",
    "\n",
    "#find all the p tags that has class attribute equals to normal\n",
    "#grab -5 item from the returned list\n",
    "contents=bs.find_all('p',class_='normal')[-5]\n",
    "\n",
    "#create an empty list called new_list\n",
    "new_list=[]\n",
    "\n",
    "#loop through the new_list to get the column name\n",
    "for item in contents:\n",
    "    if str(item).strip()!=\"<br/>\": # if list item is not break tag\n",
    "        new_list.append(str(item))    # append the item into new_list\n",
    "\n",
    "#create an empty list called col_names\n",
    "col_names=[]\n",
    "\n",
    "#loop through new_list \n",
    "for item1 in new_list:\n",
    "    col_name=item1.split('\\t')[1] #split the list item by tab and grab the index 1 items\n",
    "    col_names.append(col_name)   #append variable col_name to col_names list"
   ]
  },
  {
   "cell_type": "code",
   "execution_count": 5,
   "metadata": {},
   "outputs": [],
   "source": [
    "#print(col_names)"
   ]
  },
  {
   "cell_type": "code",
   "execution_count": 6,
   "metadata": {},
   "outputs": [],
   "source": [
    "col_names.append('Bankruptcy') # adding column name for target column\n",
    "df_list=[]  # create an empty list\n",
    "df_bankruptcy_rate=[]\n",
    "\n",
    "for n in range(1,6):\n",
    "    path='{}year.arff'.format(n) #loop through 5 datasets \n",
    "    data=arff.loadarff(path) #using arff method to read datasets\n",
    "    dfn=pd.DataFrame(data[0]) #using pandas dataframe method to read datasets\n",
    "    dfn.columns=col_names #passing my column names to dataframe\n",
    "    dfn['df#']=n  # addding new column to indicate the orginal dataset number\n",
    "    bankruptcy_rate=dfn.Bankruptcy.value_counts(normalize=True)[1] #calculate bankruptcy rate of each dataframe\n",
    "    df_bankruptcy_rate.append(bankruptcy_rate) #append each dataframe bankruptch rate to list\n",
    "    df_list.append(dfn) # appending dataframe to list"
   ]
  },
  {
   "cell_type": "code",
   "execution_count": 10,
   "metadata": {},
   "outputs": [],
   "source": [
    "df=pd.concat(df_list,ignore_index=True) #concatenate five datasets as one big dataset\n",
    "#print(df.info()) # check the general information of five datasets all together\n",
    "\n",
    "#print(df.isnull().sum().sort_values(ascending=False)) #Calculate the total missing values by column and sort them by descending order"
   ]
  },
  {
   "cell_type": "code",
   "execution_count": 11,
   "metadata": {},
   "outputs": [
    {
     "name": "stdout",
     "output_type": "stream",
     "text": [
      "(43405, 42)\n"
     ]
    }
   ],
   "source": [
    "df_corr=pd.DataFrame(df.corr()) #calculate the Pearson Correlation Coefficient\n",
    "#delete highly correlated attributes\n",
    "df_new=df.drop(['(gross profit + extraordinary items + financial expenses) / total assets\\r','profit on operating activities / total assets\\r','operating expenses / short-term liabilities\\r',\n",
    "                          'profit on sales / total assets\\r','total sales / total assets\\r','EBITDA (profit on operating activities - depreciation) / total assets\\r','sales / short-term liabilities\\r',\n",
    "                         '(gross profit + interest) / total assets\\r','gross profit / total assets\\r','(equity - share capital) / total assets\\r','(total liabilities - cash) / sales\\r',\n",
    "                          'rotation receivables + inventory turnover in days\\r','(receivables * 365) / sales\\r','short-term liabilities / total assets\\r','(current assets - inventory - receivables) / short-term liabilities\\r',\n",
    "                           '(current assets - inventory) / short-term liabilities\\r','(gross profit + depreciation) / sales\\r','total assets / total liabilities\\r','constant capital / total assets\\r','(total liabilities - cash) / sales\\r',\n",
    "                           'total costs /total sales\\r','constant capital / total assets\\r','(gross profit + interest) / sales\\r','(sales - cost of products sold) / sales\\r','(inventory * 365) / cost of products sold\\r','(current liabilities * 365) / cost of products sold\\r'],axis=1)\n",
    "print(df_new.shape)"
   ]
  },
  {
   "cell_type": "code",
   "execution_count": 12,
   "metadata": {},
   "outputs": [
    {
     "data": {
      "image/png": "[encoded data removed]",
      "text/plain": [
       "<Figure size 432x288 with 1 Axes>"
      ]
     },
     "metadata": {},
     "output_type": "display_data"
    }
   ],
   "source": [
    "#dealing with missing values\n",
    "#create heatmap to see if any attributes have a lot of missing values\n",
    "sns.heatmap(df_new.isnull(),yticklabels=False,xticklabels=False,cbar=False)\n",
    "warnings.filterwarnings(\"ignore\",message=\"Glyph 13 missing from current font.\")"
   ]
  },
  {
   "cell_type": "code",
   "execution_count": 13,
   "metadata": {},
   "outputs": [
    {
     "data": {
      "text/html": [
       "<div>\n",
       "<style scoped>\n",
       "    .dataframe tbody tr th:only-of-type {\n",
       "        vertical-align: middle;\n",
       "    }\n",
       "\n",
       "    .dataframe tbody tr th {\n",
       "        vertical-align: top;\n",
       "    }\n",
       "\n",
       "    .dataframe thead th {\n",
       "        text-align: right;\n",
       "    }\n",
       "</style>\n",
       "<table border=\"1\" class=\"dataframe\">\n",
       "  <thead>\n",
       "    <tr style=\"text-align: right;\">\n",
       "      <th></th>\n",
       "      <th>net profit / total assets\\r</th>\n",
       "      <th>total liabilities / total assets\\r</th>\n",
       "      <th>working capital / total assets\\r</th>\n",
       "      <th>current assets / short-term liabilities\\r</th>\n",
       "      <th>[(cash + short-term securities + receivables - short-term liabilities) / (operating expenses - depreciation)] * 365\\r</th>\n",
       "      <th>retained earnings / total assets\\r</th>\n",
       "      <th>EBIT / total assets\\r</th>\n",
       "      <th>book value of equity / total liabilities\\r</th>\n",
       "      <th>sales / total assets\\r</th>\n",
       "      <th>equity / total assets\\r</th>\n",
       "      <th>...</th>\n",
       "      <th>equity / fixed assets\\r</th>\n",
       "      <th>constant capital / fixed assets\\r</th>\n",
       "      <th>working capital\\r</th>\n",
       "      <th>(current assets - inventory - short-term liabilities) / (sales - gross profit - depreciation)\\r</th>\n",
       "      <th>long-term liabilities / equity\\r</th>\n",
       "      <th>sales / receivables\\r</th>\n",
       "      <th>(short-term liabilities *365) / sales\\r</th>\n",
       "      <th>sales / fixed assets</th>\n",
       "      <th>Bankruptcy</th>\n",
       "      <th>df#</th>\n",
       "    </tr>\n",
       "  </thead>\n",
       "  <tbody>\n",
       "    <tr>\n",
       "      <td>0</td>\n",
       "      <td>0.200550</td>\n",
       "      <td>0.37951</td>\n",
       "      <td>0.396410</td>\n",
       "      <td>2.04720</td>\n",
       "      <td>32.3510</td>\n",
       "      <td>0.38825</td>\n",
       "      <td>0.249760</td>\n",
       "      <td>1.33050</td>\n",
       "      <td>1.13890</td>\n",
       "      <td>0.504940</td>\n",
       "      <td>...</td>\n",
       "      <td>2.24370</td>\n",
       "      <td>2.24800</td>\n",
       "      <td>348690.00</td>\n",
       "      <td>0.397180</td>\n",
       "      <td>0.001924</td>\n",
       "      <td>5.1372</td>\n",
       "      <td>82.658</td>\n",
       "      <td>7.42770</td>\n",
       "      <td>b'0'</td>\n",
       "      <td>1</td>\n",
       "    </tr>\n",
       "    <tr>\n",
       "      <td>1</td>\n",
       "      <td>0.209120</td>\n",
       "      <td>0.49988</td>\n",
       "      <td>0.472250</td>\n",
       "      <td>1.94470</td>\n",
       "      <td>14.7860</td>\n",
       "      <td>0.00000</td>\n",
       "      <td>0.258340</td>\n",
       "      <td>0.99601</td>\n",
       "      <td>1.69960</td>\n",
       "      <td>0.497880</td>\n",
       "      <td>...</td>\n",
       "      <td>17.86600</td>\n",
       "      <td>17.86600</td>\n",
       "      <td>2304.60</td>\n",
       "      <td>0.420020</td>\n",
       "      <td>0.000000</td>\n",
       "      <td>3.2732</td>\n",
       "      <td>107.350</td>\n",
       "      <td>60.98700</td>\n",
       "      <td>b'0'</td>\n",
       "      <td>1</td>\n",
       "    </tr>\n",
       "    <tr>\n",
       "      <td>2</td>\n",
       "      <td>0.248660</td>\n",
       "      <td>0.69592</td>\n",
       "      <td>0.267130</td>\n",
       "      <td>1.55480</td>\n",
       "      <td>-1.1523</td>\n",
       "      <td>0.00000</td>\n",
       "      <td>0.309060</td>\n",
       "      <td>0.43695</td>\n",
       "      <td>1.30900</td>\n",
       "      <td>0.304080</td>\n",
       "      <td>...</td>\n",
       "      <td>1.20980</td>\n",
       "      <td>2.05040</td>\n",
       "      <td>6332.70</td>\n",
       "      <td>0.817740</td>\n",
       "      <td>0.694840</td>\n",
       "      <td>3.9510</td>\n",
       "      <td>134.270</td>\n",
       "      <td>5.20780</td>\n",
       "      <td>b'0'</td>\n",
       "      <td>1</td>\n",
       "    </tr>\n",
       "    <tr>\n",
       "      <td>3</td>\n",
       "      <td>0.081483</td>\n",
       "      <td>0.30734</td>\n",
       "      <td>0.458790</td>\n",
       "      <td>2.49280</td>\n",
       "      <td>51.9520</td>\n",
       "      <td>0.14988</td>\n",
       "      <td>0.092704</td>\n",
       "      <td>1.86610</td>\n",
       "      <td>1.05710</td>\n",
       "      <td>0.573530</td>\n",
       "      <td>...</td>\n",
       "      <td>2.45240</td>\n",
       "      <td>2.45240</td>\n",
       "      <td>20545.00</td>\n",
       "      <td>0.142070</td>\n",
       "      <td>0.000000</td>\n",
       "      <td>3.6147</td>\n",
       "      <td>86.435</td>\n",
       "      <td>5.54970</td>\n",
       "      <td>b'0'</td>\n",
       "      <td>1</td>\n",
       "    </tr>\n",
       "    <tr>\n",
       "      <td>4</td>\n",
       "      <td>0.187320</td>\n",
       "      <td>0.61323</td>\n",
       "      <td>0.229600</td>\n",
       "      <td>1.40630</td>\n",
       "      <td>-7.3128</td>\n",
       "      <td>0.18732</td>\n",
       "      <td>0.187320</td>\n",
       "      <td>0.63070</td>\n",
       "      <td>1.15590</td>\n",
       "      <td>0.386770</td>\n",
       "      <td>...</td>\n",
       "      <td>1.88390</td>\n",
       "      <td>2.11840</td>\n",
       "      <td>3186.60</td>\n",
       "      <td>0.484310</td>\n",
       "      <td>0.124440</td>\n",
       "      <td>4.3158</td>\n",
       "      <td>127.210</td>\n",
       "      <td>7.89800</td>\n",
       "      <td>b'0'</td>\n",
       "      <td>1</td>\n",
       "    </tr>\n",
       "    <tr>\n",
       "      <td>...</td>\n",
       "      <td>...</td>\n",
       "      <td>...</td>\n",
       "      <td>...</td>\n",
       "      <td>...</td>\n",
       "      <td>...</td>\n",
       "      <td>...</td>\n",
       "      <td>...</td>\n",
       "      <td>...</td>\n",
       "      <td>...</td>\n",
       "      <td>...</td>\n",
       "      <td>...</td>\n",
       "      <td>...</td>\n",
       "      <td>...</td>\n",
       "      <td>...</td>\n",
       "      <td>...</td>\n",
       "      <td>...</td>\n",
       "      <td>...</td>\n",
       "      <td>...</td>\n",
       "      <td>...</td>\n",
       "      <td>...</td>\n",
       "      <td>...</td>\n",
       "    </tr>\n",
       "    <tr>\n",
       "      <td>43330</td>\n",
       "      <td>0.012898</td>\n",
       "      <td>0.70621</td>\n",
       "      <td>0.038857</td>\n",
       "      <td>1.17220</td>\n",
       "      <td>-18.9070</td>\n",
       "      <td>0.00000</td>\n",
       "      <td>0.013981</td>\n",
       "      <td>0.41600</td>\n",
       "      <td>1.67680</td>\n",
       "      <td>0.293790</td>\n",
       "      <td>...</td>\n",
       "      <td>0.39944</td>\n",
       "      <td>0.90248</td>\n",
       "      <td>3599.10</td>\n",
       "      <td>0.043904</td>\n",
       "      <td>1.259400</td>\n",
       "      <td>12.4320</td>\n",
       "      <td>49.117</td>\n",
       "      <td>2.27990</td>\n",
       "      <td>b'1'</td>\n",
       "      <td>5</td>\n",
       "    </tr>\n",
       "    <tr>\n",
       "      <td>43331</td>\n",
       "      <td>-0.578050</td>\n",
       "      <td>0.96702</td>\n",
       "      <td>-0.800850</td>\n",
       "      <td>0.16576</td>\n",
       "      <td>-67.3650</td>\n",
       "      <td>-0.57805</td>\n",
       "      <td>-0.578050</td>\n",
       "      <td>-0.40334</td>\n",
       "      <td>0.93979</td>\n",
       "      <td>-0.390040</td>\n",
       "      <td>...</td>\n",
       "      <td>-0.46385</td>\n",
       "      <td>-0.45546</td>\n",
       "      <td>-9242.10</td>\n",
       "      <td>1.482000</td>\n",
       "      <td>-0.018084</td>\n",
       "      <td>44.7590</td>\n",
       "      <td>81.220</td>\n",
       "      <td>5.13050</td>\n",
       "      <td>b'1'</td>\n",
       "      <td>5</td>\n",
       "    </tr>\n",
       "    <tr>\n",
       "      <td>43332</td>\n",
       "      <td>-0.179050</td>\n",
       "      <td>1.25530</td>\n",
       "      <td>-0.275990</td>\n",
       "      <td>0.74554</td>\n",
       "      <td>-120.4400</td>\n",
       "      <td>-0.17905</td>\n",
       "      <td>-0.154930</td>\n",
       "      <td>-0.26018</td>\n",
       "      <td>1.17490</td>\n",
       "      <td>-0.326590</td>\n",
       "      <td>...</td>\n",
       "      <td>-1.70670</td>\n",
       "      <td>-0.81508</td>\n",
       "      <td>-58253.00</td>\n",
       "      <td>0.548240</td>\n",
       "      <td>-0.522430</td>\n",
       "      <td>3.4892</td>\n",
       "      <td>207.870</td>\n",
       "      <td>9.95270</td>\n",
       "      <td>b'1'</td>\n",
       "      <td>5</td>\n",
       "    </tr>\n",
       "    <tr>\n",
       "      <td>43333</td>\n",
       "      <td>-0.108860</td>\n",
       "      <td>0.74394</td>\n",
       "      <td>0.015449</td>\n",
       "      <td>1.08780</td>\n",
       "      <td>-17.0030</td>\n",
       "      <td>-0.10886</td>\n",
       "      <td>-0.109180</td>\n",
       "      <td>0.12531</td>\n",
       "      <td>0.84516</td>\n",
       "      <td>0.093224</td>\n",
       "      <td>...</td>\n",
       "      <td>0.11530</td>\n",
       "      <td>0.81772</td>\n",
       "      <td>1107.50</td>\n",
       "      <td>-1.167700</td>\n",
       "      <td>6.092400</td>\n",
       "      <td>6.0769</td>\n",
       "      <td>83.122</td>\n",
       "      <td>0.95575</td>\n",
       "      <td>b'1'</td>\n",
       "      <td>5</td>\n",
       "    </tr>\n",
       "    <tr>\n",
       "      <td>43334</td>\n",
       "      <td>-0.105370</td>\n",
       "      <td>0.53629</td>\n",
       "      <td>-0.045578</td>\n",
       "      <td>0.91478</td>\n",
       "      <td>-56.0680</td>\n",
       "      <td>-0.10537</td>\n",
       "      <td>-0.109940</td>\n",
       "      <td>0.86460</td>\n",
       "      <td>0.95040</td>\n",
       "      <td>0.463670</td>\n",
       "      <td>...</td>\n",
       "      <td>0.90779</td>\n",
       "      <td>0.91069</td>\n",
       "      <td>-425.13</td>\n",
       "      <td>-0.227250</td>\n",
       "      <td>0.003196</td>\n",
       "      <td>4.7174</td>\n",
       "      <td>136.850</td>\n",
       "      <td>2.79270</td>\n",
       "      <td>b'1'</td>\n",
       "      <td>5</td>\n",
       "    </tr>\n",
       "  </tbody>\n",
       "</table>\n",
       "<p>43335 rows × 37 columns</p>\n",
       "</div>"
      ],
      "text/plain": [
       "       net profit / total assets\\r  total liabilities / total assets\\r  \\\n",
       "0                         0.200550                             0.37951   \n",
       "1                         0.209120                             0.49988   \n",
       "2                         0.248660                             0.69592   \n",
       "3                         0.081483                             0.30734   \n",
       "4                         0.187320                             0.61323   \n",
       "...                            ...                                 ...   \n",
       "43330                     0.012898                             0.70621   \n",
       "43331                    -0.578050                             0.96702   \n",
       "43332                    -0.179050                             1.25530   \n",
       "43333                    -0.108860                             0.74394   \n",
       "43334                    -0.105370                             0.53629   \n",
       "\n",
       "       working capital / total assets\\r  \\\n",
       "0                              0.396410   \n",
       "1                              0.472250   \n",
       "2                              0.267130   \n",
       "3                              0.458790   \n",
       "4                              0.229600   \n",
       "...                                 ...   \n",
       "43330                          0.038857   \n",
       "43331                         -0.800850   \n",
       "43332                         -0.275990   \n",
       "43333                          0.015449   \n",
       "43334                         -0.045578   \n",
       "\n",
       "       current assets / short-term liabilities\\r  \\\n",
       "0                                        2.04720   \n",
       "1                                        1.94470   \n",
       "2                                        1.55480   \n",
       "3                                        2.49280   \n",
       "4                                        1.40630   \n",
       "...                                          ...   \n",
       "43330                                    1.17220   \n",
       "43331                                    0.16576   \n",
       "43332                                    0.74554   \n",
       "43333                                    1.08780   \n",
       "43334                                    0.91478   \n",
       "\n",
       "       [(cash + short-term securities + receivables - short-term liabilities) / (operating expenses - depreciation)] * 365\\r  \\\n",
       "0                                                32.3510                                                                       \n",
       "1                                                14.7860                                                                       \n",
       "2                                                -1.1523                                                                       \n",
       "3                                                51.9520                                                                       \n",
       "4                                                -7.3128                                                                       \n",
       "...                                                  ...                                                                       \n",
       "43330                                           -18.9070                                                                       \n",
       "43331                                           -67.3650                                                                       \n",
       "43332                                          -120.4400                                                                       \n",
       "43333                                           -17.0030                                                                       \n",
       "43334                                           -56.0680                                                                       \n",
       "\n",
       "       retained earnings / total assets\\r  EBIT / total assets\\r  \\\n",
       "0                                 0.38825               0.249760   \n",
       "1                                 0.00000               0.258340   \n",
       "2                                 0.00000               0.309060   \n",
       "3                                 0.14988               0.092704   \n",
       "4                                 0.18732               0.187320   \n",
       "...                                   ...                    ...   \n",
       "43330                             0.00000               0.013981   \n",
       "43331                            -0.57805              -0.578050   \n",
       "43332                            -0.17905              -0.154930   \n",
       "43333                            -0.10886              -0.109180   \n",
       "43334                            -0.10537              -0.109940   \n",
       "\n",
       "       book value of equity / total liabilities\\r  sales / total assets\\r  \\\n",
       "0                                         1.33050                 1.13890   \n",
       "1                                         0.99601                 1.69960   \n",
       "2                                         0.43695                 1.30900   \n",
       "3                                         1.86610                 1.05710   \n",
       "4                                         0.63070                 1.15590   \n",
       "...                                           ...                     ...   \n",
       "43330                                     0.41600                 1.67680   \n",
       "43331                                    -0.40334                 0.93979   \n",
       "43332                                    -0.26018                 1.17490   \n",
       "43333                                     0.12531                 0.84516   \n",
       "43334                                     0.86460                 0.95040   \n",
       "\n",
       "       equity / total assets\\r  ...  equity / fixed assets\\r  \\\n",
       "0                     0.504940  ...                  2.24370   \n",
       "1                     0.497880  ...                 17.86600   \n",
       "2                     0.304080  ...                  1.20980   \n",
       "3                     0.573530  ...                  2.45240   \n",
       "4                     0.386770  ...                  1.88390   \n",
       "...                        ...  ...                      ...   \n",
       "43330                 0.293790  ...                  0.39944   \n",
       "43331                -0.390040  ...                 -0.46385   \n",
       "43332                -0.326590  ...                 -1.70670   \n",
       "43333                 0.093224  ...                  0.11530   \n",
       "43334                 0.463670  ...                  0.90779   \n",
       "\n",
       "       constant capital / fixed assets\\r  working capital\\r  \\\n",
       "0                                2.24800          348690.00   \n",
       "1                               17.86600            2304.60   \n",
       "2                                2.05040            6332.70   \n",
       "3                                2.45240           20545.00   \n",
       "4                                2.11840            3186.60   \n",
       "...                                  ...                ...   \n",
       "43330                            0.90248            3599.10   \n",
       "43331                           -0.45546           -9242.10   \n",
       "43332                           -0.81508          -58253.00   \n",
       "43333                            0.81772            1107.50   \n",
       "43334                            0.91069            -425.13   \n",
       "\n",
       "       (current assets - inventory - short-term liabilities) / (sales - gross profit - depreciation)\\r  \\\n",
       "0                                               0.397180                                                 \n",
       "1                                               0.420020                                                 \n",
       "2                                               0.817740                                                 \n",
       "3                                               0.142070                                                 \n",
       "4                                               0.484310                                                 \n",
       "...                                                  ...                                                 \n",
       "43330                                           0.043904                                                 \n",
       "43331                                           1.482000                                                 \n",
       "43332                                           0.548240                                                 \n",
       "43333                                          -1.167700                                                 \n",
       "43334                                          -0.227250                                                 \n",
       "\n",
       "       long-term liabilities / equity\\r  sales / receivables\\r  \\\n",
       "0                              0.001924                 5.1372   \n",
       "1                              0.000000                 3.2732   \n",
       "2                              0.694840                 3.9510   \n",
       "3                              0.000000                 3.6147   \n",
       "4                              0.124440                 4.3158   \n",
       "...                                 ...                    ...   \n",
       "43330                          1.259400                12.4320   \n",
       "43331                         -0.018084                44.7590   \n",
       "43332                         -0.522430                 3.4892   \n",
       "43333                          6.092400                 6.0769   \n",
       "43334                          0.003196                 4.7174   \n",
       "\n",
       "       (short-term liabilities *365) / sales\\r  sales / fixed assets  \\\n",
       "0                                       82.658               7.42770   \n",
       "1                                      107.350              60.98700   \n",
       "2                                      134.270               5.20780   \n",
       "3                                       86.435               5.54970   \n",
       "4                                      127.210               7.89800   \n",
       "...                                        ...                   ...   \n",
       "43330                                   49.117               2.27990   \n",
       "43331                                   81.220               5.13050   \n",
       "43332                                  207.870               9.95270   \n",
       "43333                                   83.122               0.95575   \n",
       "43334                                  136.850               2.79270   \n",
       "\n",
       "       Bankruptcy  df#  \n",
       "0            b'0'    1  \n",
       "1            b'0'    1  \n",
       "2            b'0'    1  \n",
       "3            b'0'    1  \n",
       "4            b'0'    1  \n",
       "...           ...  ...  \n",
       "43330        b'1'    5  \n",
       "43331        b'1'    5  \n",
       "43332        b'1'    5  \n",
       "43333        b'1'    5  \n",
       "43334        b'1'    5  \n",
       "\n",
       "[43335 rows x 37 columns]"
      ]
     },
     "execution_count": 13,
     "metadata": {},
     "output_type": "execute_result"
    }
   ],
   "source": [
    "#dealing with missing values\n",
    "#drop columns having more than 2000 missing values & rows mmore than 10 missing values\n",
    "df_new_1=df_new.drop(['sales (n) / sales (n-1)\\r','(current assets - inventories) / long-term liabilities\\r','profit on operating activities / financial expenses\\r','net profit / inventory\\r','sales / inventory\\r'],axis=1) \n",
    "mv_index=df[df_new_1.isnull().sum(axis=1)>=10].index # get index numbers of all the rows having more than 10 missing values in a row \n",
    "df_new_2=df_new_1.drop(mv_index,axis=0) # drop rows that have more than 10 missing values\n",
    "df_new_2.reset_index(drop=True) # reset index number after droping unmeaning ful rows and columns\n"
   ]
  },
  {
   "cell_type": "code",
   "execution_count": 14,
   "metadata": {},
   "outputs": [
    {
     "data": {
      "text/plain": [
       "net profit / total assets\\r                                                                                              0\n",
       "total liabilities / total assets\\r                                                                                       0\n",
       "working capital / total assets\\r                                                                                         0\n",
       "current assets / short-term liabilities\\r                                                                                0\n",
       "[(cash + short-term securities + receivables - short-term liabilities) / (operating expenses - depreciation)] * 365\\r    0\n",
       "retained earnings / total assets\\r                                                                                       0\n",
       "EBIT / total assets\\r                                                                                                    0\n",
       "book value of equity / total liabilities\\r                                                                               0\n",
       "sales / total assets\\r                                                                                                   0\n",
       "equity / total assets\\r                                                                                                  0\n",
       "gross profit / short-term liabilities\\r                                                                                  0\n",
       "(total liabilities * 365) / (gross profit + depreciation)\\r                                                              0\n",
       "(gross profit + depreciation) / total liabilities\\r                                                                      0\n",
       "gross profit / sales\\r                                                                                                   0\n",
       "(inventory * 365) / sales\\r                                                                                              0\n",
       "net profit / sales\\r                                                                                                     0\n",
       "gross profit (in 3 years) / total assets\\r                                                                               0\n",
       "(net profit + depreciation) / total liabilities\\r                                                                        0\n",
       "working capital / fixed assets\\r                                                                                         0\n",
       "logarithm of total assets\\r                                                                                              0\n",
       "operating expenses / total liabilities\\r                                                                                 0\n",
       "profit on sales / sales\\r                                                                                                0\n",
       "total liabilities / ((profit on operating activities + depreciation) * (12/365))\\r                                       0\n",
       "profit on operating activities / sales\\r                                                                                 0\n",
       "EBITDA (profit on operating activities - depreciation) / sales\\r                                                         0\n",
       "current assets / total liabilities\\r                                                                                     0\n",
       "(short-term liabilities * 365) / cost of products sold)\\r                                                                0\n",
       "equity / fixed assets\\r                                                                                                  0\n",
       "constant capital / fixed assets\\r                                                                                        0\n",
       "working capital\\r                                                                                                        0\n",
       "(current assets - inventory - short-term liabilities) / (sales - gross profit - depreciation)\\r                          0\n",
       "long-term liabilities / equity\\r                                                                                         0\n",
       "sales / receivables\\r                                                                                                    0\n",
       "(short-term liabilities *365) / sales\\r                                                                                  0\n",
       "sales / fixed assets                                                                                                     0\n",
       "Bankruptcy                                                                                                               0\n",
       "df#                                                                                                                      0\n",
       "dtype: int64"
      ]
     },
     "execution_count": 14,
     "metadata": {},
     "output_type": "execute_result"
    }
   ],
   "source": [
    "#dealing with missing values\n",
    "#fill in median values for the rest of the missing values\n",
    "df_new_3=df_new_2.fillna(df.median())\n",
    "df_new_3.isnull().sum() #count missing values by features "
   ]
  },
  {
   "cell_type": "code",
   "execution_count": 15,
   "metadata": {},
   "outputs": [
    {
     "name": "stdout",
     "output_type": "stream",
     "text": [
      "(43335, 35)\n"
     ]
    },
    {
     "data": {
      "text/plain": [
       "<matplotlib.axes._subplots.AxesSubplot at 0x2a08dd10188>"
      ]
     },
     "execution_count": 15,
     "metadata": {},
     "output_type": "execute_result"
    },
    {
     "data": {
      "image/png": "[encoded data removed]",
      "text/plain": [
       "<Figure size 432x288 with 1 Axes>"
      ]
     },
     "metadata": {
      "needs_background": "light"
     },
     "output_type": "display_data"
    }
   ],
   "source": [
    "#dealing with outliers\n",
    "#boxplot dataframe to see the existing the outliers\n",
    "\n",
    "df_new_4=df_new_3['df#'] #extract df# column as a new dataframe\n",
    "df_new_5=df_new_3['Bankruptcy'] #extract Bankruptcy column as a new dataframe\n",
    "df_new_6=df_new_3.drop(['Bankruptcy','df#'],axis=1) #drop df# and Bankruptcy columns from dataset \n",
    "print(df_new_6.shape)\n",
    "df_new_6.boxplot() # put all remaining features on a boxplot\n"
   ]
  },
  {
   "cell_type": "code",
   "execution_count": 16,
   "metadata": {},
   "outputs": [
    {
     "name": "stdout",
     "output_type": "stream",
     "text": [
      "(43335, 35)\n"
     ]
    }
   ],
   "source": [
    "#dealing with Outliers\n",
    "\n",
    "#data points do not lie within 5th to 95th percentile are deemed to be outliers \n",
    "qua=df_new_6.quantile([0.05,0.95]) #find out 5th & 95th percentile of dataframe\n",
    "lower_bound=qua.loc[0.05,:] #find out all data less than 5th percentile\n",
    "upper_bound=qua.loc[0.95,:] #find out all data greater than 95th percentile\n",
    "#print(lower_bound,upper_bound)\n",
    "df_new_7=df_new_6[(df_new_6>lower_bound) & (df_new_6<upper_bound)] #fill in NA if data is not within 5th and 95th percentile\n",
    "df_new_8=df_new_7.fillna(df.median()) # fill in medeian value in outliers\n",
    "feature_col=df_new_8.columns #extract all feature column names \n",
    "print(df_new_8.shape)\n"
   ]
  },
  {
   "cell_type": "code",
   "execution_count": 17,
   "metadata": {},
   "outputs": [
    {
     "data": {
      "image/png": "[encoded data removed]",
      "text/plain": [
       "<Figure size 432x288 with 1 Axes>"
      ]
     },
     "metadata": {
      "needs_background": "light"
     },
     "output_type": "display_data"
    }
   ],
   "source": [
    "#scatter plot bankruptcy rate by original dataframe number\n",
    "plt.scatter([1,2,3,4,5],df_bankruptcy_rate)\n",
    "plt.xticks(np.arange(1,6)) #set xticks number\n",
    "plt.yticks(np.arange(0,0.1,0.02)) #set yticks number\n",
    "plt.xlabel('Dataset number')\n",
    "plt.ylabel('Bankruptcy Rate')\n",
    "plt.title('Bankruptcy Rate over 5 year period',{'fontsize':15},verticalalignment='center')\n",
    "plt.show()"
   ]
  },
  {
   "cell_type": "code",
   "execution_count": 18,
   "metadata": {},
   "outputs": [
    {
     "data": {
      "image/png": "[encoded data removed]",
      "text/plain": [
       "<Figure size 432x288 with 1 Axes>"
      ]
     },
     "metadata": {
      "needs_background": "light"
     },
     "output_type": "display_data"
    }
   ],
   "source": [
    "\n",
    "#plot histgram based on Bankruptcy counts\n",
    "plt.hist(df['Bankruptcy'],bins=5,rwidth=47)\n",
    "plt.yticks(ticks=[0,10000,20000,30000,40000],labels=[0,10000,20000,30000,40000])\n",
    "plt.xticks(ticks=[0.1,0.9],labels=['nonbankruptcy','bankruptcy'])\n",
    "plt.axis('auto',location=[0,0.2])\n",
    "plt.title('Bankruptcy counts',{'fontsize':15})\n",
    "plt.show()\n"
   ]
  },
  {
   "cell_type": "code",
   "execution_count": 19,
   "metadata": {},
   "outputs": [
    {
     "name": "stdout",
     "output_type": "stream",
     "text": [
      "-5742.3\n",
      "34402.0\n"
     ]
    }
   ],
   "source": [
    "#dataset Scaling\n",
    "print(df_new_8.min().min()) #print out min value in dataset\n",
    "print(df_new_8.max().max()) #print out max value in dataset"
   ]
  },
  {
   "cell_type": "code",
   "execution_count": 20,
   "metadata": {},
   "outputs": [
    {
     "name": "stdout",
     "output_type": "stream",
     "text": [
      "RangeIndex(start=0, stop=43335, step=1)\n"
     ]
    }
   ],
   "source": [
    "#use MinMax Scaler to rescale dataset\n",
    "from sklearn.preprocessing import MinMaxScaler \n",
    "\n",
    "scaling=MinMaxScaler()  #create MinMaxSacler object\n",
    "df_new_9=pd.DataFrame(scaling.fit_transform(df_new_8),columns=feature_col) #rescale dataset \n",
    "print(df_new_9.index)"
   ]
  },
  {
   "cell_type": "code",
   "execution_count": 21,
   "metadata": {},
   "outputs": [
    {
     "name": "stdout",
     "output_type": "stream",
     "text": [
      "0    41251\n",
      "1     2084\n",
      "Name: Bankruptcy, dtype: int64\n"
     ]
    }
   ],
   "source": [
    "# upsampling dataframe\n",
    "\n",
    "target_col=[] #create empty target_col list\n",
    "for target in df_new_5.values: # iterate all items in bankruptcy column\n",
    "    target_col.append(str(target)[2]) #slicing bankruptcy values from oline string text and append to list\n",
    "\n",
    "df_new_9['Bankruptcy']= target_col # add Bankruptcy column back into dataframe\n",
    "df_new_9['df#']=df_new_4 #add df# column back into dataframe\n",
    "print(pd.value_counts(df_new_9['Bankruptcy'])) #count the number of bankruptcy and non-bankruptcy"
   ]
  },
  {
   "cell_type": "code",
   "execution_count": 22,
   "metadata": {},
   "outputs": [
    {
     "name": "stdout",
     "output_type": "stream",
     "text": [
      "(43850, 35)\n"
     ]
    }
   ],
   "source": [
    "#upsamepling training dataframe and split dataset into training and test dataset\n",
    "\n",
    "from imblearn.over_sampling import RandomOverSampler\n",
    "\n",
    "\n",
    "os=RandomOverSampler() #create RandomOverSampler object\n",
    "df_train_1=df_new_9[df_new_9['df#']==1] #extract #1 dataframe\n",
    "df_train_2=df_new_9[df_new_9['df#']==2] #extract #2 dataframe\n",
    "df_train_5=df_new_9[df_new_9['df#']==5] #extract #5 dataframe\n",
    "#concatante df#1,2,5 to from training dataframe and drop df# column\n",
    "df_train=pd.concat([df_train_1,df_train_2,df_train_5],ignore_index=True).drop('df#',axis=1)\n",
    "df_train_data=df_train.iloc[:,0:35] #extract first 36 columns from training data frame\n",
    "df_train_target=df_train.iloc[:,-1] #extract last column as trainging target\n",
    "df_train_data_1,df_train_target_1=os.fit_sample(df_train_data,df_train_target) #upsampling training dataframe\n",
    "\n",
    "\n",
    "df_test_3=df_new_9[df_new_9['df#']==3] #extract #3 dataframe\n",
    "df_test_4=df_new_9[df_new_9['df#']==4] #extract #4 dataframe\n",
    "#concatante df#3,4 to from testing dataframe and drop df# column\n",
    "df_test=pd.concat([df_test_3,df_test_4],ignore_index=True).drop('df#',axis=1) \n",
    "df_test_data=df_test.iloc[:,0:35] #extract first 36 columns as testing data frame\n",
    "df_test_target=df_test.iloc[:,-1] #extract last column as testing target\n",
    "\n",
    "print(df_train_data_1.shape)"
   ]
  },
  {
   "cell_type": "code",
   "execution_count": 23,
   "metadata": {},
   "outputs": [
    {
     "name": "stdout",
     "output_type": "stream",
     "text": [
      "                                                             0\n",
      "(gross profit + depreciation) / total liabiliti...  394.800566\n",
      "(net profit + depreciation) / total liabilities\\r   372.687015\n",
      "gross profit / short-term liabilities\\r             332.098007\n",
      "book value of equity / total liabilities\\r          293.275631\n",
      "gross profit (in 3 years) / total assets\\r          288.572538\n",
      "current assets / short-term liabilities\\r           264.874541\n",
      "total liabilities / total assets\\r                  254.929650\n",
      "equity / total assets\\r                             235.647593\n",
      "current assets / total liabilities\\r                228.587930\n",
      "(short-term liabilities *365) / sales\\r             176.139863\n",
      "EBIT / total assets\\r                               161.962778\n",
      "gross profit / sales\\r                              160.180120\n",
      "profit on sales / sales\\r                           159.592138\n",
      "net profit / total assets\\r                         157.713297\n",
      "working capital / total assets\\r                    157.640645\n",
      "net profit / sales\\r                                156.260491\n",
      "working capital\\r                                   134.690820\n",
      "profit on operating activities / sales\\r            127.556526\n",
      "retained earnings / total assets\\r                  118.295206\n",
      "(short-term liabilities * 365) / cost of produc...   95.410835\n",
      "equity / fixed assets\\r                              91.061398\n",
      "constant capital / fixed assets\\r                    79.513682\n",
      "[(cash + short-term securities + receivables - ...   78.692476\n",
      "working capital / fixed assets\\r                     72.024662\n",
      "EBITDA (profit on operating activities - deprec...   70.413127\n",
      "(current assets - inventory - short-term liabil...   33.751607\n",
      "sales / receivables\\r                                28.044334\n",
      "operating expenses / total liabilities\\r             27.597544\n",
      "logarithm of total assets\\r                          25.964267\n",
      "sales / total assets\\r                                9.893533\n",
      "(total liabilities * 365) / (gross profit + dep...    6.896614\n",
      "(inventory * 365) / sales\\r                           5.355302\n",
      "sales / fixed assets                                  1.881357\n",
      "total liabilities / ((profit on operating activ...    1.064938\n",
      "long-term liabilities / equity\\r                      0.482599\n",
      "       (gross profit + depreciation) / total liabilities\\r  \\\n",
      "0                                               0.297371     \n",
      "1                                               0.236227     \n",
      "2                                               0.211579     \n",
      "3                                               0.192309     \n",
      "4                                               0.168553     \n",
      "...                                                  ...     \n",
      "43845                                           0.033398     \n",
      "43846                                           0.144688     \n",
      "43847                                           0.080713     \n",
      "43848                                           0.280198     \n",
      "43849                                           0.144688     \n",
      "\n",
      "       (net profit + depreciation) / total liabilities\\r  \\\n",
      "0                                               0.280537   \n",
      "1                                               0.224288   \n",
      "2                                               0.201300   \n",
      "3                                               0.197429   \n",
      "4                                               0.183928   \n",
      "...                                                  ...   \n",
      "43845                                           0.035958   \n",
      "43846                                           0.149530   \n",
      "43847                                           0.087760   \n",
      "43848                                           0.269307   \n",
      "43849                                           0.149530   \n",
      "\n",
      "       gross profit / short-term liabilities\\r  \\\n",
      "0                                     0.349338   \n",
      "1                                     0.304631   \n",
      "2                                     0.343723   \n",
      "3                                     0.237361   \n",
      "4                                     0.246690   \n",
      "...                                        ...   \n",
      "43845                                 0.078519   \n",
      "43846                                 0.025821   \n",
      "43847                                 0.156002   \n",
      "43848                                 0.341485   \n",
      "43849                                 0.196956   \n",
      "\n",
      "       book value of equity / total liabilities\\r  \\\n",
      "0                                        0.122328   \n",
      "1                                        0.092201   \n",
      "2                                        0.041847   \n",
      "3                                        0.170569   \n",
      "4                                        0.059298   \n",
      "...                                           ...   \n",
      "43845                                    0.028839   \n",
      "43846                                    0.098901   \n",
      "43847                                    0.098901   \n",
      "43848                                    0.088513   \n",
      "43849                                    0.026999   \n",
      "\n",
      "       gross profit (in 3 years) / total assets\\r  \n",
      "0                                        0.696674  \n",
      "1                                        0.409314  \n",
      "2                                        0.409314  \n",
      "3                                        0.424336  \n",
      "4                                        0.438072  \n",
      "...                                           ...  \n",
      "43845                                    0.214297  \n",
      "43846                                    0.409314  \n",
      "43847                                    0.394133  \n",
      "43848                                    0.409314  \n",
      "43849                                    0.409314  \n",
      "\n",
      "[43850 rows x 5 columns]\n"
     ]
    }
   ],
   "source": [
    "#select more relavent features using SelectKBest method \n",
    "\n",
    "from sklearn.feature_selection import SelectKBest\n",
    "from sklearn.feature_selection import chi2\n",
    "\n",
    "\n",
    "bestfeatures=SelectKBest(chi2,k=15) # create SelectKBest features with chi2 method\n",
    "fit_1=bestfeatures.fit(df_train_data_1,df_train_target_1) #fit training dataset into SelectKBest method\n",
    "df_score=pd.DataFrame(fit_1.scores_,feature_col).sort_values(by=0,ascending=False) #get scores for features and sort them by score\n",
    "print(df_score)\n",
    "df_first_5=df_train_data_1[[df_score.index[n] for n in range(0,5)]] #pick the first 5 features as most relevant to train models\n",
    "print(df_first_5)"
   ]
  },
  {
   "cell_type": "code",
   "execution_count": 24,
   "metadata": {},
   "outputs": [
    {
     "data": {
      "image/png": "[encoded data removed]",
      "text/plain": [
       "<Figure size 432x288 with 5 Axes>"
      ]
     },
     "metadata": {
      "needs_background": "light"
     },
     "output_type": "display_data"
    }
   ],
   "source": [
    "plt.subplot(2,3,1)\n",
    "plt.scatter(df_new_3['gross profit (in 3 years) / total assets\\r'],df_new_3['Bankruptcy'])\n",
    "plt.title('1st feature')\n",
    "plt.subplot(2,3,2)\n",
    "plt.scatter(df_new_3['(net profit + depreciation) / total liabilities\\r'],df_new_3['Bankruptcy'])\n",
    "plt.title('2nd feature')\n",
    "plt.subplot(2,3,3)\n",
    "plt.scatter(df_new_3['gross profit / short-term liabilities\\r'],df_new_3['Bankruptcy'])\n",
    "plt.title('3rd feature')\n",
    "plt.subplots_adjust(hspace=0.5)\n",
    "plt.subplot(2,3,4)\n",
    "plt.scatter(df_new_3['current assets / short-term liabilities\\r'],df_new_3['Bankruptcy'])\n",
    "plt.title('4th feature')\n",
    "plt.subplot(2,3,5)\n",
    "plt.scatter(df_new_3['gross profit (in 3 years) / total assets\\r'],df_new_3['Bankruptcy'])\n",
    "plt.title('5th feature')\n",
    "plt.show()"
   ]
  },
  {
   "cell_type": "code",
   "execution_count": 41,
   "metadata": {},
   "outputs": [
    {
     "name": "stdout",
     "output_type": "stream",
     "text": [
      "[0.6261345496009122, 0.6278449258836944, 0.6333409350057012, 0.6310376282782212, 0.6517673888255416]\n",
      "0.4376140904830036\n"
     ]
    },
    {
     "data": {
      "image/png": "[encoded data removed]",
      "text/plain": [
       "<Figure size 432x288 with 1 Axes>"
      ]
     },
     "metadata": {
      "needs_background": "light"
     },
     "output_type": "display_data"
    }
   ],
   "source": [
    "#train model with LogisticRegression Method and get accuracy score\n",
    "\n",
    "from sklearn.linear_model import LogisticRegression\n",
    "from sklearn.model_selection import cross_val_score\n",
    "\n",
    "\n",
    "\n",
    "#check to see first kth columns have highest cross validation score\n",
    "cross_val_list_LR=[]\n",
    "for k in range(1,6): \n",
    "    cross_val_LR=cross_val_score(LogisticRegression(),df_first_5.iloc[:,0:k],df_train_target_1,cv=5).mean()\n",
    "    cross_val_list_LR.append(cross_val_LR) #append cross validation score into list\n",
    "    \n",
    "print(cross_val_list_LR)    \n",
    "plt.plot(np.arange(1,6),cross_val_list_LR) #plot the cross validation score on x,y axis\n",
    "plt.title('Logistic Regression-CV Score')\n",
    "\n",
    "#fit training dataframe with first 3 columns into model\n",
    "fit_LR=LogisticRegression(solver='lbfgs').fit(df_first_5.iloc[:,0:3],df_train_target_1)\n",
    "#test the model with testing dataset\n",
    "df_test_LR=df_test_data.loc[:,['(gross profit + depreciation) / total liabilities\\r','(net profit + depreciation) / total liabilities\\r','gross profit / short-term liabilities\\r']]\n",
    "#print out accuracy \n",
    "print(fit_LR.score(df_test_LR,df_test_target))\n",
    "\n",
    "\n"
   ]
  },
  {
   "cell_type": "code",
   "execution_count": 45,
   "metadata": {},
   "outputs": [
    {
     "name": "stdout",
     "output_type": "stream",
     "text": [
      "[0.5817103762827822, 0.5841049030786774, 0.5900570125427594, 0.5929760547320411, 0.6030102622576967]\n",
      "0.3063298633381025\n"
     ]
    },
    {
     "data": {
      "image/png": "[encoded data removed]",
      "text/plain": [
       "<Figure size 432x288 with 1 Axes>"
      ]
     },
     "metadata": {
      "needs_background": "light"
     },
     "output_type": "display_data"
    }
   ],
   "source": [
    "#train model with Navie_bayes\n",
    "\n",
    "from sklearn.naive_bayes import GaussianNB\n",
    "\n",
    "#check to see first kth columns have highest cross validation score\n",
    "cross_val_list_NB=[]\n",
    "for k in range(1,6): \n",
    "    cross_val_NB=cross_val_score(GaussianNB(),df_first_5.iloc[:,0:k],df_train_target_1,cv=5).mean()\n",
    "    cross_val_list_NB.append(cross_val_NB) #append cross validation score into list\n",
    "\n",
    "print(cross_val_list_NB)\n",
    "plt.plot(np.arange(1,6),cross_val_list_NB) #plot the cross validation score on x,y axis\n",
    "plt.title('Naive Bayes-CV Score')\n",
    "\n",
    "\n",
    "#fit training dataframe with first 5 columns into model\n",
    "fit_NB=GaussianNB().fit(df_first_5.iloc[:,0:5],df_train_target_1)\n",
    "#test the model with testing dataset\n",
    "df_test_NB=df_test_data.loc[:,['(gross profit + depreciation) / total liabilities\\r','(net profit + depreciation) / total liabilities\\r','gross profit / short-term liabilities\\r','book value of equity / total liabilities\\r','current assets / short-term liabilities\\r']]\n",
    "#print out accuracy \n",
    "print(fit_NB.score(df_test_NB,df_test_target))\n"
   ]
  },
  {
   "cell_type": "code",
   "execution_count": 51,
   "metadata": {},
   "outputs": [
    {
     "name": "stdout",
     "output_type": "stream",
     "text": [
      "[0.9301254275940707, 0.9412086659064993, 0.9559863169897378, 0.9722462941847206, 0.9840592930444698]\n",
      "0.8855888302333613\n"
     ]
    },
    {
     "data": {
      "image/png": "[encoded data removed]",
      "text/plain": [
       "<Figure size 432x288 with 1 Axes>"
      ]
     },
     "metadata": {
      "needs_background": "light"
     },
     "output_type": "display_data"
    }
   ],
   "source": [
    "#train model with Random Forest \n",
    "from sklearn.ensemble import RandomForestClassifier\n",
    "\n",
    "#check to see first kth columns have highest cross validation score\n",
    "cross_val_list_RF=[]\n",
    "for k in range(1,6): \n",
    "    cross_val_RF=cross_val_score(RandomForestClassifier(),df_first_5.iloc[:,0:k],df_train_target_1,cv=5).mean()\n",
    "    cross_val_list_RF.append(cross_val_RF) #append cross validation score into list\n",
    "\n",
    "print(cross_val_list_RF)\n",
    "plt.plot(np.arange(1,6),cross_val_list_RF) #plot the cross validation score on x,y axis\n",
    "plt.title('Random Forest-CV Score')\n",
    "\n",
    "fit_RF=RandomForestClassifier(n_estimators=3).fit(df_first_5.iloc[:,0:4],df_train_target_1)\n",
    "df_test_RF=df_test_data.loc[:,['(gross profit + depreciation) / total liabilities\\r','(net profit + depreciation) / total liabilities\\r','gross profit / short-term liabilities\\r','book value of equity / total liabilities\\r']]\n",
    "print(fit_RF.score(df_test_RF,df_test_target))"
   ]
  },
  {
   "cell_type": "code",
   "execution_count": 53,
   "metadata": {},
   "outputs": [
    {
     "name": "stdout",
     "output_type": "stream",
     "text": [
      "0.9014751591099709\n"
     ]
    },
    {
     "data": {
      "image/png": "[encoded data removed]",
      "text/plain": [
       "<Figure size 432x288 with 1 Axes>"
      ]
     },
     "metadata": {
      "needs_background": "light"
     },
     "output_type": "display_data"
    }
   ],
   "source": [
    "#train model with Random Forest \n",
    "from sklearn.ensemble import RandomForestClassifier\n",
    "\n",
    "#check to see first kth columns have highest cross validation score\n",
    "cross_val_list_RF=[]\n",
    "for k in range(1,6): \n",
    "    cross_val_RF=cross_val_score(RandomForestClassifier(),df_first_5.iloc[:,0:k],df_train_target_1,cv=5).mean()\n",
    "    cross_val_list_RF.append(cross_val_RF) #append cross validation score into list\n",
    "\n",
    "plt.plot(np.arange(1,6),cross_val_list_RF) #plot the cross validation score on x,y axis\n",
    "\n",
    "fit_RF=RandomForestClassifier(n_estimators=4).fit(df_first_5.iloc[:,0:4],df_train_target_1)\n",
    "df_test_RF=df_test_data.loc[:,['(gross profit + depreciation) / total liabilities\\r','(net profit + depreciation) / total liabilities\\r','gross profit / short-term liabilities\\r','book value of equity / total liabilities\\r']]\n",
    "print(fit_RF.score(df_test_RF,df_test_target))"
   ]
  },
  {
   "cell_type": "code",
   "execution_count": 55,
   "metadata": {},
   "outputs": [
    {
     "name": "stdout",
     "output_type": "stream",
     "text": [
      "0.9004884306083181\n"
     ]
    },
    {
     "data": {
      "image/png": "[encoded data removed]",
      "text/plain": [
       "<Figure size 432x288 with 1 Axes>"
      ]
     },
     "metadata": {
      "needs_background": "light"
     },
     "output_type": "display_data"
    }
   ],
   "source": [
    "#train model with Random Forest \n",
    "from sklearn.ensemble import RandomForestClassifier\n",
    "\n",
    "#check to see first kth columns have highest cross validation score\n",
    "cross_val_list_RF=[]\n",
    "for k in range(1,6): \n",
    "    cross_val_RF=cross_val_score(RandomForestClassifier(),df_first_5.iloc[:,0:k],df_train_target_1,cv=5).mean()\n",
    "    cross_val_list_RF.append(cross_val_RF) #append cross validation score into list\n",
    "\n",
    "plt.plot(np.arange(1,6),cross_val_list_RF) #plot the cross validation score on x,y axis\n",
    "\n",
    "fit_RF=RandomForestClassifier(n_estimators=6).fit(df_first_5.iloc[:,0:4],df_train_target_1)\n",
    "df_test_RF=df_test_data.loc[:,['(gross profit + depreciation) / total liabilities\\r','(net profit + depreciation) / total liabilities\\r','gross profit / short-term liabilities\\r','book value of equity / total liabilities\\r']]\n",
    "print(fit_RF.score(df_test_RF,df_test_target))"
   ]
  },
  {
   "cell_type": "code",
   "execution_count": null,
   "metadata": {},
   "outputs": [],
   "source": []
  }
 ],
 "metadata": {
  "kernelspec": {
   "display_name": "Python 3",
   "language": "python",
   "name": "python3"
  },
  "language_info": {
   "codemirror_mode": {
    "name": "ipython",
    "version": 3
   },
   "file_extension": ".py",
   "mimetype": "text/x-python",
   "name": "python",
   "nbconvert_exporter": "python",
   "pygments_lexer": "ipython3",
   "version": "3.7.4"
  }
 },
 "nbformat": 4,
 "nbformat_minor": 2
}
